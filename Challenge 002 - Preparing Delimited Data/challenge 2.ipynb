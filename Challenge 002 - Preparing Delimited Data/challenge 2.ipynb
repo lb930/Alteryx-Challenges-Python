{
 "cells": [
  {
   "cell_type": "markdown",
   "metadata": {},
   "source": [
    "## Challenge #2: Preparing Delimited Data\n",
    "\n",
    "Original challenge: https://community.alteryx.com/t5/Weekly-Challenge/Challenge-2-Preparing-Delimited-Data/td-p/36622\n",
    "\n",
    "Many products will export textual data with delimiters such as quotes. This is done so that strings can contain delimiters or control characters within them. Having more than one type of delimiter can be hard for ETL programs to interpret.  In the input text file, there are two different delimiters (double quotes, single quotes) and they surround different data types.\n",
    "\n",
    "Use Alteryx or Python to strip out the delimiters as superfluous and format the data as represented in the output."
   ]
  },
  {
   "cell_type": "code",
   "execution_count": 1,
   "metadata": {},
   "outputs": [],
   "source": [
    "import pandas as pd"
   ]
  },
  {
   "cell_type": "code",
   "execution_count": 23,
   "metadata": {},
   "outputs": [],
   "source": [
    "c_input = pd.read_csv(\".Challenge 002/challenge_2_input.csv\")\n",
    "c_input"
   ]
  },
  {
   "cell_type": "code",
   "execution_count": 26,
   "metadata": {},
   "outputs": [
    {
     "data": {
      "text/html": [
       "<div>\n",
       "<style scoped>\n",
       "    .dataframe tbody tr th:only-of-type {\n",
       "        vertical-align: middle;\n",
       "    }\n",
       "\n",
       "    .dataframe tbody tr th {\n",
       "        vertical-align: top;\n",
       "    }\n",
       "\n",
       "    .dataframe thead th {\n",
       "        text-align: right;\n",
       "    }\n",
       "</style>\n",
       "<table border=\"1\" class=\"dataframe\">\n",
       "  <thead>\n",
       "    <tr style=\"text-align: right;\">\n",
       "      <th></th>\n",
       "      <th>Field_1</th>\n",
       "    </tr>\n",
       "  </thead>\n",
       "  <tbody>\n",
       "    <tr>\n",
       "      <td>0</td>\n",
       "      <td>\"Mary had a little lamb whose fleece was white as snow\",123,'16-JUN-01'</td>\n",
       "    </tr>\n",
       "    <tr>\n",
       "      <td>1</td>\n",
       "      <td>\"I do not like green eggs and ham\",456,'25-DEC-10'</td>\n",
       "    </tr>\n",
       "  </tbody>\n",
       "</table>\n",
       "</div>"
      ],
      "text/plain": [
       "                                                                   Field_1\n",
       "0  \"Mary had a little lamb whose fleece was white as snow\",123,'16-JUN-01'\n",
       "1                       \"I do not like green eggs and ham\",456,'25-DEC-10'"
      ]
     },
     "execution_count": 26,
     "metadata": {},
     "output_type": "execute_result"
    }
   ],
   "source": [
    "#expand the column width so strings don't get truncated\n",
    "\n",
    "pd.options.display.max_colwidth = 100\n",
    "c_input"
   ]
  },
  {
   "cell_type": "code",
   "execution_count": 27,
   "metadata": {},
   "outputs": [
    {
     "data": {
      "text/html": [
       "<div>\n",
       "<style scoped>\n",
       "    .dataframe tbody tr th:only-of-type {\n",
       "        vertical-align: middle;\n",
       "    }\n",
       "\n",
       "    .dataframe tbody tr th {\n",
       "        vertical-align: top;\n",
       "    }\n",
       "\n",
       "    .dataframe thead th {\n",
       "        text-align: right;\n",
       "    }\n",
       "</style>\n",
       "<table border=\"1\" class=\"dataframe\">\n",
       "  <thead>\n",
       "    <tr style=\"text-align: right;\">\n",
       "      <th></th>\n",
       "      <th>Field_1</th>\n",
       "      <th>Poem</th>\n",
       "      <th>Poem_ID</th>\n",
       "      <th>Poem_Read_Date</th>\n",
       "    </tr>\n",
       "  </thead>\n",
       "  <tbody>\n",
       "    <tr>\n",
       "      <td>0</td>\n",
       "      <td>\"Mary had a little lamb whose fleece was white as snow\",123,'16-JUN-01'</td>\n",
       "      <td>\"Mary had a little lamb whose fleece was white as snow\"</td>\n",
       "      <td>123</td>\n",
       "      <td>'16-JUN-01'</td>\n",
       "    </tr>\n",
       "    <tr>\n",
       "      <td>1</td>\n",
       "      <td>\"I do not like green eggs and ham\",456,'25-DEC-10'</td>\n",
       "      <td>\"I do not like green eggs and ham\"</td>\n",
       "      <td>456</td>\n",
       "      <td>'25-DEC-10'</td>\n",
       "    </tr>\n",
       "  </tbody>\n",
       "</table>\n",
       "</div>"
      ],
      "text/plain": [
       "                                                                   Field_1  \\\n",
       "0  \"Mary had a little lamb whose fleece was white as snow\",123,'16-JUN-01'   \n",
       "1                       \"I do not like green eggs and ham\",456,'25-DEC-10'   \n",
       "\n",
       "                                                      Poem Poem_ID  \\\n",
       "0  \"Mary had a little lamb whose fleece was white as snow\"     123   \n",
       "1                       \"I do not like green eggs and ham\"     456   \n",
       "\n",
       "  Poem_Read_Date  \n",
       "0    '16-JUN-01'  \n",
       "1    '25-DEC-10'  "
      ]
     },
     "execution_count": 27,
     "metadata": {},
     "output_type": "execute_result"
    }
   ],
   "source": [
    "#split Field_1 into 3 fields using a comma as delimiter\n",
    "\n",
    "c_input[[\"Poem\", \"Poem_ID\", \"Poem_Read_Date\"]] = c_input[\"Field_1\"].str.split(\",\", expand = True)\n",
    "c_input"
   ]
  },
  {
   "cell_type": "code",
   "execution_count": 28,
   "metadata": {},
   "outputs": [],
   "source": [
    "del c_input[\"Field_1\"]"
   ]
  },
  {
   "cell_type": "code",
   "execution_count": 30,
   "metadata": {},
   "outputs": [
    {
     "data": {
      "text/html": [
       "<div>\n",
       "<style scoped>\n",
       "    .dataframe tbody tr th:only-of-type {\n",
       "        vertical-align: middle;\n",
       "    }\n",
       "\n",
       "    .dataframe tbody tr th {\n",
       "        vertical-align: top;\n",
       "    }\n",
       "\n",
       "    .dataframe thead th {\n",
       "        text-align: right;\n",
       "    }\n",
       "</style>\n",
       "<table border=\"1\" class=\"dataframe\">\n",
       "  <thead>\n",
       "    <tr style=\"text-align: right;\">\n",
       "      <th></th>\n",
       "      <th>Poem</th>\n",
       "      <th>Poem_ID</th>\n",
       "      <th>Poem_Read_Date</th>\n",
       "    </tr>\n",
       "  </thead>\n",
       "  <tbody>\n",
       "    <tr>\n",
       "      <td>0</td>\n",
       "      <td>Mary had a little lamb whose fleece was white as snow</td>\n",
       "      <td>123</td>\n",
       "      <td>'16-JUN-01'</td>\n",
       "    </tr>\n",
       "    <tr>\n",
       "      <td>1</td>\n",
       "      <td>I do not like green eggs and ham</td>\n",
       "      <td>456</td>\n",
       "      <td>'25-DEC-10'</td>\n",
       "    </tr>\n",
       "  </tbody>\n",
       "</table>\n",
       "</div>"
      ],
      "text/plain": [
       "                                                    Poem Poem_ID  \\\n",
       "0  Mary had a little lamb whose fleece was white as snow     123   \n",
       "1                       I do not like green eggs and ham     456   \n",
       "\n",
       "  Poem_Read_Date  \n",
       "0    '16-JUN-01'  \n",
       "1    '25-DEC-10'  "
      ]
     },
     "execution_count": 30,
     "metadata": {},
     "output_type": "execute_result"
    }
   ],
   "source": [
    "#replace double quotes\n",
    "\n",
    "c_input[\"Poem\"] = c_input[\"Poem\"].str.replace('\"', '')\n",
    "c_input"
   ]
  },
  {
   "cell_type": "code",
   "execution_count": 36,
   "metadata": {},
   "outputs": [
    {
     "data": {
      "text/html": [
       "<div>\n",
       "<style scoped>\n",
       "    .dataframe tbody tr th:only-of-type {\n",
       "        vertical-align: middle;\n",
       "    }\n",
       "\n",
       "    .dataframe tbody tr th {\n",
       "        vertical-align: top;\n",
       "    }\n",
       "\n",
       "    .dataframe thead th {\n",
       "        text-align: right;\n",
       "    }\n",
       "</style>\n",
       "<table border=\"1\" class=\"dataframe\">\n",
       "  <thead>\n",
       "    <tr style=\"text-align: right;\">\n",
       "      <th></th>\n",
       "      <th>Poem</th>\n",
       "      <th>Poem_ID</th>\n",
       "      <th>Poem_Read_Date</th>\n",
       "    </tr>\n",
       "  </thead>\n",
       "  <tbody>\n",
       "    <tr>\n",
       "      <td>0</td>\n",
       "      <td>Mary had a little lamb whose fleece was white as snow</td>\n",
       "      <td>123</td>\n",
       "      <td>2001-06-16</td>\n",
       "    </tr>\n",
       "    <tr>\n",
       "      <td>1</td>\n",
       "      <td>I do not like green eggs and ham</td>\n",
       "      <td>456</td>\n",
       "      <td>2010-12-25</td>\n",
       "    </tr>\n",
       "  </tbody>\n",
       "</table>\n",
       "</div>"
      ],
      "text/plain": [
       "                                                    Poem Poem_ID  \\\n",
       "0  Mary had a little lamb whose fleece was white as snow     123   \n",
       "1                       I do not like green eggs and ham     456   \n",
       "\n",
       "  Poem_Read_Date  \n",
       "0     2001-06-16  \n",
       "1     2010-12-25  "
      ]
     },
     "execution_count": 36,
     "metadata": {},
     "output_type": "execute_result"
    }
   ],
   "source": [
    "#convert string to datetime format\n",
    "\n",
    "c_input[\"Poem_Read_Date\"] = pd.to_datetime(c_input[\"Poem_Read_Date\"])\n",
    "c_input"
   ]
  }
 ],
 "metadata": {
  "kernelspec": {
   "display_name": "Python 3",
   "language": "python",
   "name": "python3"
  },
  "language_info": {
   "codemirror_mode": {
    "name": "ipython",
    "version": 3
   },
   "file_extension": ".py",
   "mimetype": "text/x-python",
   "name": "python",
   "nbconvert_exporter": "python",
   "pygments_lexer": "ipython3",
   "version": "3.7.4"
  }
 },
 "nbformat": 4,
 "nbformat_minor": 2
}
