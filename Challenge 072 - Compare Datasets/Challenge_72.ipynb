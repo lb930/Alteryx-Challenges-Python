{
 "cells": [
  {
   "cell_type": "markdown",
   "metadata": {},
   "source": [
    "## Compare Data Sets\n",
    "\n",
    "This week’s challenge is inspired by @SeanAdams’ mastery of the Field Info Tool! Can you follow in his footsteps to master the tool and use it in building a workflow that can compare two incoming data sets to see if they contain the same columns? Be sure to be sensitive to string case and any columns that have underscores substituted for spaces (i.e. “Store name” should match to “store_name”)!"
   ]
  },
  {
   "cell_type": "code",
   "execution_count": 7,
   "metadata": {},
   "outputs": [],
   "source": [
    "import pandas as pd"
   ]
  },
  {
   "cell_type": "code",
   "execution_count": 8,
   "metadata": {},
   "outputs": [
    {
     "output_type": "execute_result",
     "data": {
      "text/plain": [
       "Empty DataFrame\n",
       "Columns: [Record ID, First, Last, ADD, ADD 2, ZIP, Z 4, Source]\n",
       "Index: []"
      ],
      "text/html": "<div>\n<style scoped>\n    .dataframe tbody tr th:only-of-type {\n        vertical-align: middle;\n    }\n\n    .dataframe tbody tr th {\n        vertical-align: top;\n    }\n\n    .dataframe thead th {\n        text-align: right;\n    }\n</style>\n<table border=\"1\" class=\"dataframe\">\n  <thead>\n    <tr style=\"text-align: right;\">\n      <th></th>\n      <th>Record ID</th>\n      <th>First</th>\n      <th>Last</th>\n      <th>ADD</th>\n      <th>ADD 2</th>\n      <th>ZIP</th>\n      <th>Z 4</th>\n      <th>Source</th>\n    </tr>\n  </thead>\n  <tbody>\n  </tbody>\n</table>\n</div>"
     },
     "metadata": {},
     "execution_count": 8
    }
   ],
   "source": [
    "df1 = pd.read_csv('.\\challenge_072_input1.csv', nrows = 0)\n",
    "df1"
   ]
  },
  {
   "cell_type": "code",
   "execution_count": 9,
   "metadata": {},
   "outputs": [
    {
     "output_type": "execute_result",
     "data": {
      "text/plain": [
       "Empty DataFrame\n",
       "Columns: [record_id, first, last, add, add_2, zip, z_4, is_deleted]\n",
       "Index: []"
      ],
      "text/html": "<div>\n<style scoped>\n    .dataframe tbody tr th:only-of-type {\n        vertical-align: middle;\n    }\n\n    .dataframe tbody tr th {\n        vertical-align: top;\n    }\n\n    .dataframe thead th {\n        text-align: right;\n    }\n</style>\n<table border=\"1\" class=\"dataframe\">\n  <thead>\n    <tr style=\"text-align: right;\">\n      <th></th>\n      <th>record_id</th>\n      <th>first</th>\n      <th>last</th>\n      <th>add</th>\n      <th>add_2</th>\n      <th>zip</th>\n      <th>z_4</th>\n      <th>is_deleted</th>\n    </tr>\n  </thead>\n  <tbody>\n  </tbody>\n</table>\n</div>"
     },
     "metadata": {},
     "execution_count": 9
    }
   ],
   "source": [
    "df2 = pd.read_csv('.\\challenge_072_input2.csv', nrows = 0)\n",
    "df2"
   ]
  },
  {
   "cell_type": "code",
   "execution_count": 10,
   "metadata": {},
   "outputs": [
    {
     "output_type": "execute_result",
     "data": {
      "text/plain": [
       "    dataset1\n",
       "0        ADD\n",
       "1      ADD 2\n",
       "2      First\n",
       "3       Last\n",
       "4  Record ID\n",
       "5     Source\n",
       "6        Z 4\n",
       "7        ZIP"
      ],
      "text/html": "<div>\n<style scoped>\n    .dataframe tbody tr th:only-of-type {\n        vertical-align: middle;\n    }\n\n    .dataframe tbody tr th {\n        vertical-align: top;\n    }\n\n    .dataframe thead th {\n        text-align: right;\n    }\n</style>\n<table border=\"1\" class=\"dataframe\">\n  <thead>\n    <tr style=\"text-align: right;\">\n      <th></th>\n      <th>dataset1</th>\n    </tr>\n  </thead>\n  <tbody>\n    <tr>\n      <th>0</th>\n      <td>ADD</td>\n    </tr>\n    <tr>\n      <th>1</th>\n      <td>ADD 2</td>\n    </tr>\n    <tr>\n      <th>2</th>\n      <td>First</td>\n    </tr>\n    <tr>\n      <th>3</th>\n      <td>Last</td>\n    </tr>\n    <tr>\n      <th>4</th>\n      <td>Record ID</td>\n    </tr>\n    <tr>\n      <th>5</th>\n      <td>Source</td>\n    </tr>\n    <tr>\n      <th>6</th>\n      <td>Z 4</td>\n    </tr>\n    <tr>\n      <th>7</th>\n      <td>ZIP</td>\n    </tr>\n  </tbody>\n</table>\n</div>"
     },
     "metadata": {},
     "execution_count": 10
    }
   ],
   "source": [
    "# Create a list of the headers with the sorted() method and store it in DataFrame\n",
    "\n",
    "headers1 = pd.DataFrame({'dataset1': sorted(df1)})\n",
    "headers1"
   ]
  },
  {
   "cell_type": "code",
   "execution_count": 11,
   "metadata": {},
   "outputs": [
    {
     "output_type": "execute_result",
     "data": {
      "text/plain": [
       "     dataset2\n",
       "0         add\n",
       "1       add_2\n",
       "2       first\n",
       "3  is_deleted\n",
       "4        last\n",
       "5   record_id\n",
       "6         z_4\n",
       "7         zip"
      ],
      "text/html": "<div>\n<style scoped>\n    .dataframe tbody tr th:only-of-type {\n        vertical-align: middle;\n    }\n\n    .dataframe tbody tr th {\n        vertical-align: top;\n    }\n\n    .dataframe thead th {\n        text-align: right;\n    }\n</style>\n<table border=\"1\" class=\"dataframe\">\n  <thead>\n    <tr style=\"text-align: right;\">\n      <th></th>\n      <th>dataset2</th>\n    </tr>\n  </thead>\n  <tbody>\n    <tr>\n      <th>0</th>\n      <td>add</td>\n    </tr>\n    <tr>\n      <th>1</th>\n      <td>add_2</td>\n    </tr>\n    <tr>\n      <th>2</th>\n      <td>first</td>\n    </tr>\n    <tr>\n      <th>3</th>\n      <td>is_deleted</td>\n    </tr>\n    <tr>\n      <th>4</th>\n      <td>last</td>\n    </tr>\n    <tr>\n      <th>5</th>\n      <td>record_id</td>\n    </tr>\n    <tr>\n      <th>6</th>\n      <td>z_4</td>\n    </tr>\n    <tr>\n      <th>7</th>\n      <td>zip</td>\n    </tr>\n  </tbody>\n</table>\n</div>"
     },
     "metadata": {},
     "execution_count": 11
    }
   ],
   "source": [
    "headers2 = pd.DataFrame({'dataset2': sorted(df2)})\n",
    "headers2"
   ]
  },
  {
   "cell_type": "code",
   "execution_count": 12,
   "metadata": {},
   "outputs": [
    {
     "output_type": "execute_result",
     "data": {
      "text/plain": [
       "    dataset1       join\n",
       "0        ADD        add\n",
       "1      ADD 2      add_2\n",
       "2      First      first\n",
       "3       Last       last\n",
       "4  Record ID  record_id\n",
       "5     Source     source\n",
       "6        Z 4        z_4\n",
       "7        ZIP        zip"
      ],
      "text/html": "<div>\n<style scoped>\n    .dataframe tbody tr th:only-of-type {\n        vertical-align: middle;\n    }\n\n    .dataframe tbody tr th {\n        vertical-align: top;\n    }\n\n    .dataframe thead th {\n        text-align: right;\n    }\n</style>\n<table border=\"1\" class=\"dataframe\">\n  <thead>\n    <tr style=\"text-align: right;\">\n      <th></th>\n      <th>dataset1</th>\n      <th>join</th>\n    </tr>\n  </thead>\n  <tbody>\n    <tr>\n      <th>0</th>\n      <td>ADD</td>\n      <td>add</td>\n    </tr>\n    <tr>\n      <th>1</th>\n      <td>ADD 2</td>\n      <td>add_2</td>\n    </tr>\n    <tr>\n      <th>2</th>\n      <td>First</td>\n      <td>first</td>\n    </tr>\n    <tr>\n      <th>3</th>\n      <td>Last</td>\n      <td>last</td>\n    </tr>\n    <tr>\n      <th>4</th>\n      <td>Record ID</td>\n      <td>record_id</td>\n    </tr>\n    <tr>\n      <th>5</th>\n      <td>Source</td>\n      <td>source</td>\n    </tr>\n    <tr>\n      <th>6</th>\n      <td>Z 4</td>\n      <td>z_4</td>\n    </tr>\n    <tr>\n      <th>7</th>\n      <td>ZIP</td>\n      <td>zip</td>\n    </tr>\n  </tbody>\n</table>\n</div>"
     },
     "metadata": {},
     "execution_count": 12
    }
   ],
   "source": [
    "# Turns all string into lowercase and replaces spaces with underscores to match headers2\n",
    "\n",
    "headers1['join'] = headers1['dataset1'].map(lambda x: x.lower())\n",
    "headers1['join'] = headers1['join'].map(lambda x: x.replace(' ', '_'))\n",
    "headers1"
   ]
  },
  {
   "cell_type": "code",
   "execution_count": 13,
   "metadata": {},
   "outputs": [
    {
     "output_type": "execute_result",
     "data": {
      "text/plain": [
       "    dataset1       join    dataset2\n",
       "0        ADD        add         add\n",
       "1      ADD 2      add_2       add_2\n",
       "2      First      first       first\n",
       "3       Last       last        last\n",
       "4  Record ID  record_id   record_id\n",
       "5     Source     source         NaN\n",
       "6        Z 4        z_4         z_4\n",
       "7        ZIP        zip         zip\n",
       "8        NaN        NaN  is_deleted"
      ],
      "text/html": "<div>\n<style scoped>\n    .dataframe tbody tr th:only-of-type {\n        vertical-align: middle;\n    }\n\n    .dataframe tbody tr th {\n        vertical-align: top;\n    }\n\n    .dataframe thead th {\n        text-align: right;\n    }\n</style>\n<table border=\"1\" class=\"dataframe\">\n  <thead>\n    <tr style=\"text-align: right;\">\n      <th></th>\n      <th>dataset1</th>\n      <th>join</th>\n      <th>dataset2</th>\n    </tr>\n  </thead>\n  <tbody>\n    <tr>\n      <th>0</th>\n      <td>ADD</td>\n      <td>add</td>\n      <td>add</td>\n    </tr>\n    <tr>\n      <th>1</th>\n      <td>ADD 2</td>\n      <td>add_2</td>\n      <td>add_2</td>\n    </tr>\n    <tr>\n      <th>2</th>\n      <td>First</td>\n      <td>first</td>\n      <td>first</td>\n    </tr>\n    <tr>\n      <th>3</th>\n      <td>Last</td>\n      <td>last</td>\n      <td>last</td>\n    </tr>\n    <tr>\n      <th>4</th>\n      <td>Record ID</td>\n      <td>record_id</td>\n      <td>record_id</td>\n    </tr>\n    <tr>\n      <th>5</th>\n      <td>Source</td>\n      <td>source</td>\n      <td>NaN</td>\n    </tr>\n    <tr>\n      <th>6</th>\n      <td>Z 4</td>\n      <td>z_4</td>\n      <td>z_4</td>\n    </tr>\n    <tr>\n      <th>7</th>\n      <td>ZIP</td>\n      <td>zip</td>\n      <td>zip</td>\n    </tr>\n    <tr>\n      <th>8</th>\n      <td>NaN</td>\n      <td>NaN</td>\n      <td>is_deleted</td>\n    </tr>\n  </tbody>\n</table>\n</div>"
     },
     "metadata": {},
     "execution_count": 13
    }
   ],
   "source": [
    "# Creates an outer join\n",
    "\n",
    "df_join = headers1.merge(headers2, how = 'outer', left_on='join', right_on='dataset2')\n",
    "df_join"
   ]
  },
  {
   "cell_type": "code",
   "execution_count": 15,
   "metadata": {},
   "outputs": [
    {
     "output_type": "execute_result",
     "data": {
      "text/plain": [
       "    dataset1    dataset2\n",
       "0        ADD         add\n",
       "1      ADD 2       add_2\n",
       "2      First       first\n",
       "3       Last        last\n",
       "4  Record ID   record_id\n",
       "5     Source         NaN\n",
       "6        Z 4         z_4\n",
       "7        ZIP         zip\n",
       "8        NaN  is_deleted"
      ],
      "text/html": "<div>\n<style scoped>\n    .dataframe tbody tr th:only-of-type {\n        vertical-align: middle;\n    }\n\n    .dataframe tbody tr th {\n        vertical-align: top;\n    }\n\n    .dataframe thead th {\n        text-align: right;\n    }\n</style>\n<table border=\"1\" class=\"dataframe\">\n  <thead>\n    <tr style=\"text-align: right;\">\n      <th></th>\n      <th>dataset1</th>\n      <th>dataset2</th>\n    </tr>\n  </thead>\n  <tbody>\n    <tr>\n      <th>0</th>\n      <td>ADD</td>\n      <td>add</td>\n    </tr>\n    <tr>\n      <th>1</th>\n      <td>ADD 2</td>\n      <td>add_2</td>\n    </tr>\n    <tr>\n      <th>2</th>\n      <td>First</td>\n      <td>first</td>\n    </tr>\n    <tr>\n      <th>3</th>\n      <td>Last</td>\n      <td>last</td>\n    </tr>\n    <tr>\n      <th>4</th>\n      <td>Record ID</td>\n      <td>record_id</td>\n    </tr>\n    <tr>\n      <th>5</th>\n      <td>Source</td>\n      <td>NaN</td>\n    </tr>\n    <tr>\n      <th>6</th>\n      <td>Z 4</td>\n      <td>z_4</td>\n    </tr>\n    <tr>\n      <th>7</th>\n      <td>ZIP</td>\n      <td>zip</td>\n    </tr>\n    <tr>\n      <th>8</th>\n      <td>NaN</td>\n      <td>is_deleted</td>\n    </tr>\n  </tbody>\n</table>\n</div>"
     },
     "metadata": {},
     "execution_count": 15
    }
   ],
   "source": [
    "df_join.drop(labels=['join'], axis = 1, inplace = True)\n",
    "df_join"
   ]
  },
  {
   "cell_type": "code",
   "execution_count": null,
   "metadata": {},
   "outputs": [],
   "source": []
  }
 ],
 "metadata": {
  "kernelspec": {
   "display_name": "Python 3",
   "language": "python",
   "name": "python3"
  },
  "language_info": {
   "codemirror_mode": {
    "name": "ipython",
    "version": 3
   },
   "file_extension": ".py",
   "mimetype": "text/x-python",
   "name": "python",
   "nbconvert_exporter": "python",
   "pygments_lexer": "ipython3",
   "version": "3.8.5-final"
  }
 },
 "nbformat": 4,
 "nbformat_minor": 4
}