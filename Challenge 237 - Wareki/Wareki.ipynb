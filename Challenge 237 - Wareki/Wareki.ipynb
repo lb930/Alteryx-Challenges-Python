{
 "cells": [
  {
   "cell_type": "markdown",
   "metadata": {},
   "source": [
    "## Wareki\n",
    "\n",
    "The Wareki is a Japanese date format which includes an extra character to signify the era. The eras indicate the emperor at the time and they impact the year only. For example, H04/01/31 represents the 4th year of Heisei era, but the 01/31 is in fact January 31st of that year.\n",
    "\n",
    "Modern Japan, which is considered the period beginning in 1868, is currently in its 5th era. This week's challenge is to create a macro that converts Wareki dates into Alteryx Datetime or vice versa. The macro should include a configuration option for Wareki to Date or Date to Wareki.\n",
    "\n",
    "**Example:**\n",
    "\n",
    "S550730 is 30 July 1980.\n",
    "\n",
    "_Original challenge: https://community.alteryx.com/t5/Weekly-Challenge/Challenge-237-Wareki/td-p/648486_"
   ]
  },
  {
   "cell_type": "code",
   "execution_count": 173,
   "metadata": {},
   "outputs": [],
   "source": [
    "import pandas as pd\n",
    "from datetime import date\n",
    "from dateutil.relativedelta import relativedelta\n",
    "from datetime import datetime"
   ]
  },
  {
   "cell_type": "code",
   "execution_count": 174,
   "metadata": {},
   "outputs": [
    {
     "data": {
      "text/html": [
       "<div>\n",
       "<style scoped>\n",
       "    .dataframe tbody tr th:only-of-type {\n",
       "        vertical-align: middle;\n",
       "    }\n",
       "\n",
       "    .dataframe tbody tr th {\n",
       "        vertical-align: top;\n",
       "    }\n",
       "\n",
       "    .dataframe thead th {\n",
       "        text-align: right;\n",
       "    }\n",
       "</style>\n",
       "<table border=\"1\" class=\"dataframe\">\n",
       "  <thead>\n",
       "    <tr style=\"text-align: right;\">\n",
       "      <th></th>\n",
       "      <th>Era</th>\n",
       "      <th>Name</th>\n",
       "      <th>Start</th>\n",
       "      <th>End</th>\n",
       "    </tr>\n",
       "  </thead>\n",
       "  <tbody>\n",
       "    <tr>\n",
       "      <th>0</th>\n",
       "      <td>M</td>\n",
       "      <td>Meiji</td>\n",
       "      <td>1868-10-23</td>\n",
       "      <td>1912-07-30</td>\n",
       "    </tr>\n",
       "    <tr>\n",
       "      <th>1</th>\n",
       "      <td>T</td>\n",
       "      <td>Taisho</td>\n",
       "      <td>1912-07-31</td>\n",
       "      <td>1926-12-25</td>\n",
       "    </tr>\n",
       "    <tr>\n",
       "      <th>2</th>\n",
       "      <td>S</td>\n",
       "      <td>Showa</td>\n",
       "      <td>1926-12-26</td>\n",
       "      <td>1989-01-07</td>\n",
       "    </tr>\n",
       "    <tr>\n",
       "      <th>3</th>\n",
       "      <td>H</td>\n",
       "      <td>Heisei</td>\n",
       "      <td>1989-01-08</td>\n",
       "      <td>2019-04-30</td>\n",
       "    </tr>\n",
       "    <tr>\n",
       "      <th>4</th>\n",
       "      <td>R</td>\n",
       "      <td>Reiwa</td>\n",
       "      <td>2019-05-01</td>\n",
       "      <td>NaT</td>\n",
       "    </tr>\n",
       "  </tbody>\n",
       "</table>\n",
       "</div>"
      ],
      "text/plain": [
       "  Era    Name      Start        End\n",
       "0   M   Meiji 1868-10-23 1912-07-30\n",
       "1   T  Taisho 1912-07-31 1926-12-25\n",
       "2   S   Showa 1926-12-26 1989-01-07\n",
       "3   H  Heisei 1989-01-08 2019-04-30\n",
       "4   R   Reiwa 2019-05-01        NaT"
      ]
     },
     "execution_count": 174,
     "metadata": {},
     "output_type": "execute_result"
    }
   ],
   "source": [
    "df = pd.read_csv('.\\challenge_237_input.csv', parse_dates = ['Start', 'End'])\n",
    "df"
   ]
  },
  {
   "cell_type": "markdown",
   "metadata": {},
   "source": [
    "## Wareki to date - if statement approach"
   ]
  },
  {
   "cell_type": "code",
   "execution_count": 176,
   "metadata": {},
   "outputs": [],
   "source": [
    "def wareki_to_date(wareki):\n",
    "    \n",
    "    \"\"\"\n",
    "    Converts a Wareki date to a standard time format.\n",
    "    \n",
    "    Args:\n",
    "        wareki: Wareki time as string in the following format: S550730\n",
    "    \"\"\"\n",
    "    \n",
    "    wareki_era = wareki[0]\n",
    "    wareki_year = int(wareki[1:3])\n",
    "    wareki_month = int(wareki[3:5])\n",
    "    wareki_day = int(wareki[5:7])\n",
    "    \n",
    "    if wareki_era == 'M':\n",
    "        era_year = (df.iloc[0, 2] + relativedelta(years = wareki_year - 1)).year\n",
    "    elif wareki_era == 'T':\n",
    "        era_year = (df.iloc[1, 2] + relativedelta(years = wareki_year - 1)).year\n",
    "    elif wareki_era == 'S':\n",
    "        era_year = (df.iloc[2, 2] + relativedelta(years = wareki_year - 1)).year\n",
    "    elif wareki_era == 'H':\n",
    "        era_year = (df.iloc[3, 2] + relativedelta(years = wareki_year - 1)).year \n",
    "    elif wareki_era == 'R':\n",
    "        era_year = (df.iloc[4, 2] + relativedelta(years = wareki_year - 1)).year \n",
    "        \n",
    "    return print(datetime(era_year, wareki_month, wareki_day))"
   ]
  },
  {
   "cell_type": "code",
   "execution_count": 196,
   "metadata": {},
   "outputs": [
    {
     "name": "stdout",
     "output_type": "stream",
     "text": [
      "1912-05-22 00:00:00\n"
     ]
    }
   ],
   "source": [
    "wareki_to_date('M450522')"
   ]
  },
  {
   "cell_type": "markdown",
   "metadata": {},
   "source": [
    "## Wareki to date - nested function approach\n",
    "This approach avoids writing out a long if statement. "
   ]
  },
  {
   "cell_type": "code",
   "execution_count": 180,
   "metadata": {},
   "outputs": [],
   "source": [
    "def wareki_to_date2(wareki):\n",
    "    \n",
    "    \"\"\"\n",
    "    Converts a Wareki date to a standard time format.\n",
    "    \n",
    "    Args:\n",
    "        wareki: Wareki time as string in the following format: S550730\n",
    "    \"\"\"\n",
    "    \n",
    "    wareki_era = wareki[0]\n",
    "    wareki_year = int(wareki[1:3])\n",
    "    wareki_month = int(wareki[3:5])\n",
    "    wareki_day = int(wareki[5:7])\n",
    "    era_year = 0\n",
    "    \n",
    "    def start_date(era, row):\n",
    "        \"\"\"\n",
    "        Returns the cell containing the start date of each era\n",
    "\n",
    "        Args:\n",
    "            era: the era, eg 'M', 'T' etc\n",
    "            row: the row in which the era can be found\n",
    "        \"\"\"\n",
    "        if wareki_era == era:\n",
    "            nonlocal era_year\n",
    "            era_year =  (df.iloc[row, 2] + relativedelta(years = wareki_year - 1)).year\n",
    "            \n",
    "\n",
    "    start_date('M', 0)\n",
    "    start_date('T', 1)\n",
    "    start_date('S', 2)\n",
    "    start_date('H', 3)\n",
    "    start_date('R', 4)\n",
    "    \n",
    "    return print(datetime(era_year, wareki_month, wareki_day))"
   ]
  },
  {
   "cell_type": "code",
   "execution_count": 197,
   "metadata": {},
   "outputs": [
    {
     "name": "stdout",
     "output_type": "stream",
     "text": [
      "1912-05-22 00:00:00\n"
     ]
    }
   ],
   "source": [
    "wareki_to_date2('M450522')"
   ]
  },
  {
   "cell_type": "markdown",
   "metadata": {},
   "source": [
    "## Date to Wareki - if statement approach"
   ]
  },
  {
   "cell_type": "code",
   "execution_count": 212,
   "metadata": {},
   "outputs": [],
   "source": [
    "def date_to_wareki(my_date):\n",
    "    \"\"\"\n",
    "    Converts a date to Wareki format.\n",
    "    \n",
    "    Args:\n",
    "        my_date: Standard date format as string (eg 1982-12-03)\n",
    "    \"\"\"\n",
    "    \n",
    "    date_format = datetime.strptime(my_date, '%Y-%m-%d')\n",
    "    date_year = date_format.year\n",
    "    date_month = date_format.month\n",
    "    date_day = date_format.day\n",
    "    \n",
    "    # Add leading zeros to months and days\n",
    "    if len(str(date_month)) == 1:\n",
    "        date_month = '0' + str(date_month)\n",
    "    \n",
    "    if len(str(date_day)) == 1:\n",
    "        date_day = '0' + str(date_day) \n",
    "    \n",
    "    # Add era abbreviation and calculate years since beginning of era\n",
    "    if date_format >= df.iloc[0, 2] and date_format <= df.iloc[0, 3]:\n",
    "        wareki = 'M'\n",
    "        new_date_year = date_year - df.iloc[0, 2].year + 1\n",
    "    elif date_format >= df.iloc[1, 2] and date_format <= df.iloc[1, 3]:\n",
    "        wareki = 'T'\n",
    "        new_date_year = date_year - df.iloc[1, 2].year + 1\n",
    "    elif date_format >= df.iloc[2, 2] and date_format <= df.iloc[2, 3]:\n",
    "        wareki = 'S'\n",
    "        new_date_year = date_year - df.iloc[2, 2].year + 1\n",
    "    elif date_format >= df.iloc[3, 2] and date_format <= df.iloc[3, 3]:\n",
    "        wareki = 'H'\n",
    "        new_date_year = date_year - df.iloc[3, 2].year + 1\n",
    "    elif date_format >= df.iloc[4, 2] and date_format <= df.iloc[4, 3]:\n",
    "        wareki = 'R'\n",
    "        new_date_year = date_year - df.iloc[4, 2].year + 1\n",
    "        \n",
    "    return wareki + str(new_date_year) + str(date_month) + str(date_day)"
   ]
  },
  {
   "cell_type": "code",
   "execution_count": 214,
   "metadata": {},
   "outputs": [
    {
     "data": {
      "text/plain": [
       "'H110321'"
      ]
     },
     "execution_count": 214,
     "metadata": {},
     "output_type": "execute_result"
    }
   ],
   "source": [
    "date_to_wareki('1999-03-21')"
   ]
  },
  {
   "cell_type": "code",
   "execution_count": null,
   "metadata": {},
   "outputs": [],
   "source": []
  }
 ],
 "metadata": {
  "kernelspec": {
   "display_name": "Python 3",
   "language": "python",
   "name": "python3"
  },
  "language_info": {
   "codemirror_mode": {
    "name": "ipython",
    "version": 3
   },
   "file_extension": ".py",
   "mimetype": "text/x-python",
   "name": "python",
   "nbconvert_exporter": "python",
   "pygments_lexer": "ipython3",
   "version": "3.8.5"
  }
 },
 "nbformat": 4,
 "nbformat_minor": 4
}
